{
  "nbformat": 4,
  "nbformat_minor": 0,
  "metadata": {
    "colab": {
      "name": "Babylonia.ipynb",
      "provenance": [],
      "collapsed_sections": [],
      "include_colab_link": true
    },
    "kernelspec": {
      "name": "python3",
      "display_name": "Python 3"
    }
  },
  "cells": [
    {
      "cell_type": "markdown",
      "metadata": {
        "id": "view-in-github",
        "colab_type": "text"
      },
      "source": [
        "<a href=\"https://colab.research.google.com/github/mathieubrglt/pyExperiments/blob/master/Babylonia.ipynb\" target=\"_parent\"><img src=\"https://colab.research.google.com/assets/colab-badge.svg\" alt=\"Open In Colab\"/></a>"
      ]
    },
    {
      "cell_type": "code",
      "metadata": {
        "id": "RWxmIoA-MvJE",
        "colab_type": "code",
        "colab": {}
      },
      "source": [
        "\n",
        "# Babylonia function\n",
        "# Fact : used by babylonians to approximate sqrt(x) with upper and lower bound\n",
        "# x,p ∈ R+ \n",
        "def babylone(x,p=2):\n",
        "  # a < b and x = a*b\n",
        "  # the closer a and b, faster is algo\n",
        "  a,b = 1, x\n",
        "  while b-a > 1/(10**(p+1)):\n",
        "    b = (a+b)/2\n",
        "    a = x/b\n",
        "  return a,b\n",
        "\n",
        "\n",
        "def test_babylone():\n",
        "  from math import sqrt\n",
        "  for i in range(1,200):\n",
        "    a,b = babylone(i)\n",
        "    assert a <= sqrt(i) <= b\n",
        "\n",
        "test_babylone()\n"
      ],
      "execution_count": 0,
      "outputs": []
    },
    {
      "cell_type": "code",
      "metadata": {
        "id": "A1Z46k4oPg2p",
        "colab_type": "code",
        "outputId": "cdaf0770-4869-4674-f549-ac06f24531e8",
        "colab": {
          "base_uri": "https://localhost:8080/",
          "height": 34
        }
      },
      "source": [
        ""
      ],
      "execution_count": 0,
      "outputs": [
        {
          "output_type": "execute_result",
          "data": {
            "text/plain": [
              "0.001"
            ]
          },
          "metadata": {
            "tags": []
          },
          "execution_count": 48
        }
      ]
    },
    {
      "cell_type": "code",
      "metadata": {
        "id": "wdbNAZFm5C8h",
        "colab_type": "code",
        "colab": {}
      },
      "source": [
        ""
      ],
      "execution_count": 0,
      "outputs": []
    }
  ]
}