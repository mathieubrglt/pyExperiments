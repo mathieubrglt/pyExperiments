{
  "nbformat": 4,
  "nbformat_minor": 0,
  "metadata": {
    "colab": {
      "name": "TensorsExplained.ipynb",
      "provenance": [],
      "collapsed_sections": [],
      "authorship_tag": "ABX9TyPsLutMkesSF53f6zKrGK4o"
    },
    "kernelspec": {
      "name": "python3",
      "display_name": "Python 3"
    }
  },
  "cells": [
    {
      "cell_type": "markdown",
      "metadata": {
        "id": "TJiIMM5I9rOy",
        "colab_type": "text"
      },
      "source": [
        "#TensorsExplained\n",
        "\n",
        "A simple way to explain tensors.\n"
      ]
    },
    {
      "cell_type": "code",
      "metadata": {
        "id": "Hc5JYBVW9l_c",
        "colab_type": "code",
        "colab": {
          "base_uri": "https://localhost:8080/",
          "height": 34
        },
        "outputId": "12af6e78-c298-4aef-bb81-6e8d979c197a"
      },
      "source": [
        "scalar = 1 #a scalar is a number\n",
        "tensor_0 = scalar #a tensor of rank 0 is a scalar\n",
        "print(tensor_0)"
      ],
      "execution_count": 9,
      "outputs": [
        {
          "output_type": "stream",
          "text": [
            "1\n"
          ],
          "name": "stdout"
        }
      ]
    },
    {
      "cell_type": "code",
      "metadata": {
        "id": "RpyIGTVk99lT",
        "colab_type": "code",
        "colab": {
          "base_uri": "https://localhost:8080/",
          "height": 34
        },
        "outputId": "c59a0732-decd-471d-91ec-6951c6ea6bfa"
      },
      "source": [
        "o = 3\n",
        "vector = [scalar]*o #a vector is a list of o scalars. \n",
        "tensor_1 = vector #a tensor of rank 1 is a vector\n",
        "print(tensor_1)"
      ],
      "execution_count": 10,
      "outputs": [
        {
          "output_type": "stream",
          "text": [
            "[1, 1, 1]\n"
          ],
          "name": "stdout"
        }
      ]
    },
    {
      "cell_type": "code",
      "metadata": {
        "id": "_PV83uVg-G1-",
        "colab_type": "code",
        "colab": {
          "base_uri": "https://localhost:8080/",
          "height": 34
        },
        "outputId": "51abfebb-f026-4234-ae5a-6f2aa83e7894"
      },
      "source": [
        "p = 3\n",
        "matrix = [vector]*p #a matrix is a list of p vectors\n",
        "tensor_2 = matrix #a tensor of rank 2 is a matrix\n",
        "print(tensor_2)"
      ],
      "execution_count": 11,
      "outputs": [
        {
          "output_type": "stream",
          "text": [
            "[[1, 1, 1], [1, 1, 1], [1, 1, 1]]\n"
          ],
          "name": "stdout"
        }
      ]
    },
    {
      "cell_type": "code",
      "metadata": {
        "id": "aTuUlWjR-fmD",
        "colab_type": "code",
        "colab": {
          "base_uri": "https://localhost:8080/",
          "height": 34
        },
        "outputId": "beb7c298-a9bf-4cc2-e82e-5238ee344da5"
      },
      "source": [
        "q = 3\n",
        "tensor_3 = [tensor_2]*q #a tensor of rank 3 is a list of q tensors of rank 2\n",
        "print(tensor_3)"
      ],
      "execution_count": 12,
      "outputs": [
        {
          "output_type": "stream",
          "text": [
            "[[[1, 1, 1], [1, 1, 1], [1, 1, 1]], [[1, 1, 1], [1, 1, 1], [1, 1, 1]], [[1, 1, 1], [1, 1, 1], [1, 1, 1]]]\n"
          ],
          "name": "stdout"
        }
      ]
    },
    {
      "cell_type": "code",
      "metadata": {
        "id": "5ltz9CSpD9qr",
        "colab_type": "code",
        "colab": {
          "base_uri": "https://localhost:8080/",
          "height": 54
        },
        "outputId": "a7cb7f0d-7d7e-41ae-9c7b-b2dfd5711fb5"
      },
      "source": [
        "r = 3\n",
        "tensor_n = [tensor_3]*p #a tensor of rank n is a list of r tensors of rank n-1\n",
        "print(tensor_n)"
      ],
      "execution_count": 13,
      "outputs": [
        {
          "output_type": "stream",
          "text": [
            "[[[[1, 1, 1], [1, 1, 1], [1, 1, 1]], [[1, 1, 1], [1, 1, 1], [1, 1, 1]], [[1, 1, 1], [1, 1, 1], [1, 1, 1]]], [[[1, 1, 1], [1, 1, 1], [1, 1, 1]], [[1, 1, 1], [1, 1, 1], [1, 1, 1]], [[1, 1, 1], [1, 1, 1], [1, 1, 1]]], [[[1, 1, 1], [1, 1, 1], [1, 1, 1]], [[1, 1, 1], [1, 1, 1], [1, 1, 1]], [[1, 1, 1], [1, 1, 1], [1, 1, 1]]]]\n"
          ],
          "name": "stdout"
        }
      ]
    }
  ]
}