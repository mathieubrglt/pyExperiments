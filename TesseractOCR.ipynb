{
  "nbformat": 4,
  "nbformat_minor": 0,
  "metadata": {
    "colab": {
      "name": "TesseractOCR.ipynb",
      "provenance": [],
      "collapsed_sections": [],
      "authorship_tag": "ABX9TyNKBKtFU1EVZr1ZvM4gdl7G",
      "include_colab_link": true
    },
    "kernelspec": {
      "name": "python3",
      "display_name": "Python 3"
    }
  },
  "cells": [
    {
      "cell_type": "markdown",
      "metadata": {
        "id": "view-in-github",
        "colab_type": "text"
      },
      "source": [
        "<a href=\"https://colab.research.google.com/github/mathieubrglt/pyExperiments/blob/master/TesseractOCR.ipynb\" target=\"_parent\"><img src=\"https://colab.research.google.com/assets/colab-badge.svg\" alt=\"Open In Colab\"/></a>"
      ]
    },
    {
      "cell_type": "markdown",
      "metadata": {
        "id": "doJjIqKyG08Q",
        "colab_type": "text"
      },
      "source": [
        "#Tesseract OCR implementation in Colab"
      ]
    },
    {
      "cell_type": "code",
      "metadata": {
        "id": "i6UbbEdnGv3x",
        "colab_type": "code",
        "outputId": "74d7d16d-f460-497c-b9ef-551f905f2471",
        "colab": {
          "base_uri": "https://localhost:8080/",
          "height": 34
        }
      },
      "source": [
        "# Download and install tesseract for python\n",
        "!apt-get -qq install tesseract-ocr libtesseract-dev libleptonica-dev \n",
        "!pip install tesserocr"
      ],
      "execution_count": 1,
      "outputs": [
        {
          "output_type": "stream",
          "text": [
            "Requirement already satisfied: tesserocr in /usr/local/lib/python3.6/dist-packages (2.5.0)\n"
          ],
          "name": "stdout"
        }
      ]
    },
    {
      "cell_type": "code",
      "metadata": {
        "id": "Ach9okdS-kBb",
        "colab_type": "code",
        "colab": {
          "base_uri": "https://localhost:8080/",
          "height": 289
        },
        "outputId": "7f51687f-a321-40a3-eea8-03af574d40f5"
      },
      "source": [
        "# Download a nice font\n",
        "!wget https://github.com/google/fonts/raw/master/apache/roboto/Roboto-Medium.ttf"
      ],
      "execution_count": 77,
      "outputs": [
        {
          "output_type": "stream",
          "text": [
            "--2020-01-11 23:45:32--  https://github.com/google/fonts/raw/master/apache/roboto/Roboto-Medium.ttf\n",
            "Resolving github.com (github.com)... 140.82.118.4\n",
            "Connecting to github.com (github.com)|140.82.118.4|:443... connected.\n",
            "HTTP request sent, awaiting response... 302 Found\n",
            "Location: https://raw.githubusercontent.com/google/fonts/master/apache/roboto/Roboto-Medium.ttf [following]\n",
            "--2020-01-11 23:45:32--  https://raw.githubusercontent.com/google/fonts/master/apache/roboto/Roboto-Medium.ttf\n",
            "Resolving raw.githubusercontent.com (raw.githubusercontent.com)... 151.101.0.133, 151.101.64.133, 151.101.128.133, ...\n",
            "Connecting to raw.githubusercontent.com (raw.githubusercontent.com)|151.101.0.133|:443... connected.\n",
            "HTTP request sent, awaiting response... 200 OK\n",
            "Length: 172064 (168K) [application/octet-stream]\n",
            "Saving to: ‘Roboto-Medium.ttf’\n",
            "\n",
            "\rRoboto-Medium.ttf     0%[                    ]       0  --.-KB/s               \rRoboto-Medium.ttf   100%[===================>] 168.03K  --.-KB/s    in 0.01s   \n",
            "\n",
            "2020-01-11 23:45:32 (13.8 MB/s) - ‘Roboto-Medium.ttf’ saved [172064/172064]\n",
            "\n"
          ],
          "name": "stdout"
        }
      ]
    },
    {
      "cell_type": "code",
      "metadata": {
        "id": "wxj8wWb7HDNN",
        "colab_type": "code",
        "colab": {}
      },
      "source": [
        "import tesserocr\n",
        "from PIL import Image,ImageOps,ImageFont, ImageDraw"
      ],
      "execution_count": 0,
      "outputs": []
    },
    {
      "cell_type": "code",
      "metadata": {
        "id": "I1YzOP2g23R3",
        "colab_type": "code",
        "colab": {}
      },
      "source": [
        "# Build a 128px by 128px Image\n",
        "img = Image.new('RGB', (128,128), color = (255,255,255))\n",
        "draw = ImageDraw.Draw(img)\n",
        "\n",
        "# Add some text \n",
        "font = ImageFont.truetype(\"Roboto-Medium.ttf\", 12)\n",
        "draw.text((42,42), \"Hello World !\", fill=(0,0,0), font=font)\n",
        "draw.text((16,16), \"2020 AI Year\", fill=(0,0,0), font=font)\n",
        "font = ImageFont.truetype(\"Roboto-Medium.ttf\", 10)\n",
        "draw.text((8,92), \"Well Done Tesseract\", fill=(0,0,0), font=font)"
      ],
      "execution_count": 0,
      "outputs": []
    },
    {
      "cell_type": "code",
      "metadata": {
        "id": "d7MmLRSXuQxd",
        "colab_type": "code",
        "colab": {
          "base_uri": "https://localhost:8080/",
          "height": 230
        },
        "outputId": "009f6380-8ec7-4792-827c-6fcec4e3891e"
      },
      "source": [
        "display(img)\n",
        "print(tesserocr.image_to_text(img))"
      ],
      "execution_count": 331,
      "outputs": [
        {
          "output_type": "display_data",
          "data": {
            "image/png": "[encoded data removed]",
            "text/plain": [
              "<PIL.Image.Image image mode=RGB size=128x128 at 0x7F4948AD4E80>"
            ]
          },
          "metadata": {
            "tags": []
          }
        },
        {
          "output_type": "stream",
          "text": [
            "2020 Al Year\n",
            "Hello World !\n",
            "\n",
            "Well Done Tesseract\n",
            "\n"
          ],
          "name": "stdout"
        }
      ]
    },
    {
      "cell_type": "code",
      "metadata": {
        "id": "GuGyPUmN6RT-",
        "colab_type": "code",
        "colab": {
          "base_uri": "https://localhost:8080/",
          "height": 230
        },
        "outputId": "c6e94f50-1074-4ad6-da99-6f5e2a786b16"
      },
      "source": [
        "# Reverse colors \n",
        "inverted_img = ImageOps.invert(img)\n",
        "# doesn't work well with light text on dark background\n",
        "print(tesserocr.image_to_text(inverted_img)) \n",
        "display(inverted_img)"
      ],
      "execution_count": 332,
      "outputs": [
        {
          "output_type": "stream",
          "text": [
            "POEUN\n",
            "Poca\n",
            "\n",
            "Pelee’\n",
            "\n"
          ],
          "name": "stdout"
        },
        {
          "output_type": "display_data",
          "data": {
            "image/png": "[encoded data removed]",
            "text/plain": [
              "<PIL.Image.Image image mode=RGB size=128x128 at 0x7F4948AC7A90>"
            ]
          },
          "metadata": {
            "tags": []
          }
        }
      ]
    }
  ]
}